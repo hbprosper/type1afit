{
 "cells": [
  {
   "cell_type": "markdown",
   "metadata": {},
   "source": [
    "# Bootstrap: Fitting Cosmological Models to Type 1a Supernova Data \n",
    " >__Created__: Fall 2021 for LPC Stats 2021 Harrison B. Prosper<br>\n",
    "\n",
    "\n",
    "## Introduction\n",
    "See cosmology introduction in __minuit_example.ipynb__.\n",
    "\n",
    "### Bootstrap\n",
    "The bootstrap was introduced by Brad Efron in 1979$^1$. The idea behind the bootstrap is simple: In the absence of any other information, the observed sample of data are the most complete information we have about the population from which the data are presumed to have been sampled. Consequently, if we sample *with replacement* from the sample this is our best approximation to sampling from the population. Given a function $y = f(S)$ of the data sample $S$, we can compute $y^* = f(S^*)$ for every bootstrap sample $S^*$. The distribution of $y^*$, namely $g^*(y^*)$, approximates $g(y)$ of $y$. \n",
    "\n",
    "This notebook, illustrates the bootstrap using the Union 2.1 compilation of Type 1a supernovae data.\n",
    "\n",
    "1. Efron, B. and Tibshirani, R. J. (1993) An Introduction to the Bootstrap. New York: Chapman and Hall."
   ]
  },
  {
   "cell_type": "markdown",
   "metadata": {},
   "source": [
    "### Load Type 1a utilities"
   ]
  },
  {
   "cell_type": "code",
   "execution_count": 1,
   "metadata": {},
   "outputs": [
    {
     "name": "stdout",
     "output_type": "stream",
     "text": [
      "Welcome to JupyROOT 6.24/00\n"
     ]
    }
   ],
   "source": [
    "%run ../type1autil.ipynb"
   ]
  },
  {
   "cell_type": "markdown",
   "metadata": {},
   "source": [
    "### Read Type 1a supernova data "
   ]
  },
  {
   "cell_type": "markdown",
   "metadata": {},
   "source": [
    "### Select data"
   ]
  },
  {
   "cell_type": "code",
   "execution_count": 2,
   "metadata": {},
   "outputs": [
    {
     "name": "stdout",
     "output_type": "stream",
     "text": [
      "number of observations: 580\n",
      "     \t         z\t         x +/- dx        \n",
      "    0\t     0.028\t   35.3466 +/- 0.2239    \n",
      "  100\t     0.065\t   37.3067 +/- 0.1628    \n",
      "  200\t     0.194\t   39.9615 +/- 0.1264    \n",
      "  300\t     0.620\t   43.2280 +/- 0.3903    \n",
      "  400\t     0.710\t   43.0220 +/- 0.1843    \n",
      "  500\t     0.564\t   42.3729 +/- 0.2920    \n",
      "\n",
      "fig_union_2_1_data.pdf\n"
     ]
    },
    {
     "data": {
      "image/png": "[encoded data removed]",
      "text/plain": [
       "<Figure size 576x360 with 1 Axes>"
      ]
     },
     "metadata": {
      "needs_background": "light"
     },
     "output_type": "display_data"
    }
   ],
   "source": [
    "# place results in a bag for later use\n",
    "class Bag: pass\n",
    "\n",
    "bag = Bag()\n",
    "\n",
    "filename = '../SCPUnion2.1_mu_vs_z.txt'\n",
    "\n",
    "# first randomly shuffle data\n",
    "Z0, MU0, DMU0 = read_data(filename)\n",
    "k   = np.arange(len(Z0))\n",
    "np.random.shuffle(k)\n",
    "\n",
    "# now select number of data points\n",
    "Ndata = 25\n",
    "Z     = Z0[k][:Ndata]\n",
    "MU    = MU0[k][:Ndata]\n",
    "DMU   = DMU0[k][:Ndata]\n",
    "\n",
    "bag.z  = Z\n",
    "bag.mu = MU\n",
    "bag.dmu= DMU\n",
    "\n",
    "plot_data(bag)"
   ]
  },
  {
   "cell_type": "markdown",
   "metadata": {},
   "source": [
    "### Choose model\n",
    "   * 'LCDM' or 'phantom'\n",
    "   * Compile C++ CosmicCode using ROOT"
   ]
  },
  {
   "cell_type": "code",
   "execution_count": 3,
   "metadata": {},
   "outputs": [
    {
     "name": "stdout",
     "output_type": "stream",
     "text": [
      "\n",
      "\tphantom model\n",
      "\n"
     ]
    }
   ],
   "source": [
    "bag.name   = 'phantom'\n",
    "\n",
    "bag.code, bag.params = compileCode(bag, PARAMS)\n",
    "\n",
    "# initialize a C array for the parameters; this is needed for\n",
    "# distanceModulus\n",
    "bag.p = array('d')"
   ]
  },
  {
   "cell_type": "markdown",
   "metadata": {},
   "source": [
    "### Function to be minimized modeled as a Python class\n",
    "\n",
    "The function to be minimized is (within a constant) the negative log-likelihood. Here the errors are assumed to be Gaussian distributed."
   ]
  },
  {
   "cell_type": "code",
   "execution_count": 5,
   "metadata": {},
   "outputs": [],
   "source": [
    "def nll(pars, *args):\n",
    "    bag = args[0]\n",
    "    \n",
    "    # put a bound on parameters\n",
    "    if ((pars <= 0) + (pars >= 200)).any():\n",
    "        return 1.e10\n",
    "    \n",
    "    # copy from numpy array to regular array\n",
    "    for i, v in enumerate(pars): bag.p[i] = v\n",
    "   \n",
    "    f = np.array([bag.code.distanceModulus(u, bag.p) for u in bag.z])      \n",
    "    c = (bag.mu - f) / bag.dmu\n",
    "    c = c * c \n",
    "    return c.sum()/2\n",
    "      \n",
    "# Tell Minuit that the cost function is a negative \n",
    "# log-likelihood so that the Hessian is scaled correctly.\n",
    "nll.errordef = im.Minuit.LIKELIHOOD"
   ]
  },
  {
   "cell_type": "markdown",
   "metadata": {},
   "source": [
    "### Bootstrap"
   ]
  },
  {
   "cell_type": "code",
   "execution_count": 6,
   "metadata": {},
   "outputs": [],
   "source": [
    "def bootstrap(bag, nboot=200):\n",
    "    \n",
    "    boots = []\n",
    "    for ii in range(nboot):\n",
    "        \n",
    "        # generate a bootstrap sample\n",
    "        \n",
    "        k = np.random.choice(len(Z), len(Z))\n",
    "\n",
    "        bag.z   = Z[k]\n",
    "        bag.mu  = MU[k]\n",
    "        bag.dmu = DMU[k]\n",
    "        \n",
    "        # initial values of params\n",
    "        for name, value, _, _ in bag.params:\n",
    "            bag.p.append(value)\n",
    "        guess = np.array(bag.p)\n",
    "        \n",
    "        # fit\n",
    "        res = im.minimize(nll, guess, args=(bag,)) \n",
    "        x   = res.x\n",
    "        cov = res.hess_inv\n",
    "        boots.append((x, cov))\n",
    "        \n",
    "        if ii % 5 == 0:\n",
    "            print('%5d\\t%10.3f %10.3f' % (ii, x[0], x[1]))\n",
    "    return boots"
   ]
  },
  {
   "cell_type": "code",
   "execution_count": 7,
   "metadata": {},
   "outputs": [
    {
     "name": "stdout",
     "output_type": "stream",
     "text": [
      "    0\t     2.699     71.370\n",
      "    5\t     1.120     69.281\n",
      "   10\t     3.545     73.151\n",
      "   15\t     1.858     70.838\n",
      "   20\t     1.935     68.319\n",
      "   25\t     2.982     71.375\n",
      "   30\t     1.753     67.696\n",
      "   35\t     2.237     72.502\n",
      "   40\t     3.667     72.969\n",
      "   45\t     1.837     68.112\n",
      "   50\t     2.019     68.540\n"
     ]
    }
   ],
   "source": [
    "boots = bootstrap(bag, nboot=51)"
   ]
  },
  {
   "cell_type": "markdown",
   "metadata": {},
   "source": [
    "### Plot Results"
   ]
  },
  {
   "cell_type": "code",
   "execution_count": 10,
   "metadata": {},
   "outputs": [],
   "source": [
    "NMIN =  0.00\n",
    "NMAX =  4.00\n",
    "HMIN = 64.00\n",
    "HMAX = 78.00\n",
    "\n",
    "def plot_scatter(boots, ndata,\n",
    "                 xmin=NMIN, xmax=NMAX, \n",
    "                 ymin=HMIN, ymax=HMAX, \n",
    "                 ftsize=20, \n",
    "                 fgsize=(6, 6)):\n",
    "\n",
    "    # set size of figure\n",
    "    fig = plt.figure(figsize=fgsize)\n",
    "\n",
    "    plt.xlim([xmin, xmax])\n",
    "    plt.ylim([ymin, ymax])\n",
    "    \n",
    "    # annotate axes\n",
    "    plt.xlabel(r'$n$', fontsize=ftsize)\n",
    "    plt.ylabel(r'$H_0$', fontsize=ftsize)\n",
    "    \n",
    "    x = [ z[0] for z, c in boots ]\n",
    "    y = [ z[1] for z, c in boots ]\n",
    "\n",
    "    c1 = plt.scatter(x, y)\n",
    "    #c1.collections[0].set_label('true likelihood')\n",
    "\n",
    "    plt.text(0.2, 75, 'sample size: %d' % ndata)\n",
    "    # display legends\n",
    "    #plt.legend(loc='upper right', fontsize=18)\n",
    "    \n",
    "    fig.tight_layout()\n",
    "    filename = 'fig_phantom_bootstrap_%d.pdf' % ndata\n",
    "    print(filename)\n",
    "    plt.savefig(filename)\n",
    "    plt.show()"
   ]
  },
  {
   "cell_type": "code",
   "execution_count": 11,
   "metadata": {},
   "outputs": [
    {
     "name": "stdout",
     "output_type": "stream",
     "text": [
      "fig_phantom_bootstrap_25.pdf\n"
     ]
    },
    {
     "data": {
      "image/png": "[encoded data removed]",
      "text/plain": [
       "<Figure size 432x432 with 1 Axes>"
      ]
     },
     "metadata": {
      "needs_background": "light"
     },
     "output_type": "display_data"
    }
   ],
   "source": [
    "plot_scatter(boots, ndata=Ndata)"
   ]
  },
  {
   "cell_type": "code",
   "execution_count": null,
   "metadata": {},
   "outputs": [],
   "source": []
  }
 ],
 "metadata": {
  "kernelspec": {
   "display_name": "Python 3 (ipykernel)",
   "language": "python",
   "name": "python3"
  },
  "language_info": {
   "codemirror_mode": {
    "name": "ipython",
    "version": 3
   },
   "file_extension": ".py",
   "mimetype": "text/x-python",
   "name": "python",
   "nbconvert_exporter": "python",
   "pygments_lexer": "ipython3",
   "version": "3.8.11"
  }
 },
 "nbformat": 4,
 "nbformat_minor": 1
}
