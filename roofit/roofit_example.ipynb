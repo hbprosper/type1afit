{
 "cells": [
  {
   "cell_type": "markdown",
   "metadata": {
    "deletable": true,
    "editable": true
   },
   "source": [
    "# RooFit Tutorial: Fit Cosmological Models to Type 1a Supernova Data\n",
    "### Created:  Summer 2017 Harrison B. Prosper\n",
    "## Introduction\n",
    "In this tutorial, I show how to use the probability modeling package __[RooFit](https://root.cern.ch/roofit-20-minutes)__, released with the CERN data analysis package __[ROOT](http://root.cern.ch)__, to perform simple fits of cosmological models to Type 1a supernova data. See the __minuit_example.ipynb__ to get some background to this problem. \n",
    "\n",
    "__prerequisite__: some familiarity with __[Python](http://www.python.org)__ and __[ROOT](http://root.cern.ch)__ is helpful."
   ]
  },
  {
   "cell_type": "markdown",
   "metadata": {
    "deletable": true,
    "editable": true
   },
   "source": [
    "## Other Dependencies\n",
    "\n",
    "This tutorial uses the github package __[histutil](https://github.com/hbprosper)__, which contains some simple ROOT-based utilities. To install this package do\n",
    "<div class=\"alert alert-block alert-info\">\n",
    "git clone https://github.com/hbprosper/histutil.git\n",
    "</div>\n",
    "and source the setup.sh script."
   ]
  },
  {
   "cell_type": "markdown",
   "metadata": {
    "deletable": true,
    "editable": true
   },
   "source": [
    "## PART 1: Create Probability Model\n",
    "\n",
    "Note: if you want to make your plots interactive, do __%jsroot on__. But, it is off by default so that the LaTex annotation works correctly."
   ]
  },
  {
   "cell_type": "code",
   "execution_count": 1,
   "metadata": {
    "collapsed": false,
    "deletable": true,
    "editable": true
   },
   "outputs": [
    {
     "name": "stdout",
     "output_type": "stream",
     "text": [
      "Welcome to JupyROOT 6.10/02\n"
     ]
    }
   ],
   "source": [
    "import os, sys\n",
    "import ROOT\n",
    "from histutil import setStyle, mkgraph, mkgraphErrors, mkhist1, Scribe\n",
    "%jsroot off"
   ]
  },
  {
   "cell_type": "markdown",
   "metadata": {
    "deletable": true,
    "editable": true
   },
   "source": [
    "### Model parameters\n",
    "\n",
    "  * ID: model identifier\n",
    "  * free: specifies whether parameter is free\n",
    "  * name: name of parameter\n",
    "  * guess: starting (or fixed) value of parameter\n",
    "  * step: step size during minimization\n",
    "  * min, max: parameter range"
   ]
  },
  {
   "cell_type": "code",
   "execution_count": 2,
   "metadata": {
    "collapsed": false,
    "deletable": true,
    "editable": true
   },
   "outputs": [],
   "source": [
    "#                     ID    free, name,  guess,    step,   min,  max\n",
    "PARAMS = {'LCDM' :    [0, [(True,  'OM',     1,   1.e-3,     0,   10),\n",
    "                           (True,  'OL',     0,   1.e-3,     -10, 10),\n",
    "                           (True,  'H0',    70,   1.e-2,     0,  200)]],\n",
    "          \n",
    "          'phantom':  [1, [(False, 'OM',     1,   1.e-3,     0,   10),\n",
    "                           (False, 'OL',     0,   1.e-3,     -10, 10),\n",
    "                           (True,  'H0',    70,   1.e-2,     0,  200),\n",
    "                           (True,  'n',      2,   1.e-3,     0,   10)]]           \n",
    "         }\n",
    "# define ranges for redshifts and distance moduli\n",
    "ZMIN  = 0.0 \n",
    "ZMAX  = 1.5\n",
    "MUMIN = 32.0\n",
    "MUMAX = 48.0"
   ]
  },
  {
   "cell_type": "markdown",
   "metadata": {
    "deletable": true,
    "editable": true
   },
   "source": [
    "### Choose model\n",
    "   * MODEL = 'LCDM' or 'phantom'"
   ]
  },
  {
   "cell_type": "code",
   "execution_count": 3,
   "metadata": {
    "collapsed": true,
    "deletable": true,
    "editable": true
   },
   "outputs": [],
   "source": [
    "MODEL = 'phantom'"
   ]
  },
  {
   "cell_type": "markdown",
   "metadata": {
    "deletable": true,
    "editable": true
   },
   "source": [
    "### Compile C++ classes Model and CosmicCode\n",
    "   * __Model__ defines $\\Omega(a)$ for the cosmological models\n",
    "   * __CosmicCode__ computes the distance modulus\n",
    "   * The model identifier, ID, is used later in some inline C++ code. Therefore, ID needs to be added to the ROOT namespace; that is, ROOT needs to know about it."
   ]
  },
  {
   "cell_type": "code",
   "execution_count": 4,
   "metadata": {
    "collapsed": false,
    "deletable": true,
    "editable": true
   },
   "outputs": [],
   "source": [
    "def compileCode(modelname, modelparams):\n",
    "    ROOT.gROOT.ProcessLine(open('../CosmicCode.cc').read())\n",
    "    \n",
    "    # make sure model name is valid\n",
    "    if not modelparams.has_key(modelname):\n",
    "        sys.exit(\"** unknown model %s\" % modelname)\n",
    "    \n",
    "    # return model id and model parameters\n",
    "    ID, params = modelparams[modelname]\n",
    "    \n",
    "    # add ID to ROOT namespace\n",
    "    ROOT.gROOT.ProcessLine('int ID = %d;' % ID)\n",
    "    return params"
   ]
  },
  {
   "cell_type": "code",
   "execution_count": 5,
   "metadata": {
    "collapsed": false,
    "deletable": true,
    "editable": true
   },
   "outputs": [],
   "source": [
    "params = compileCode(MODEL, PARAMS)"
   ]
  },
  {
   "cell_type": "markdown",
   "metadata": {
    "deletable": true,
    "editable": true
   },
   "source": [
    "### A useful bit of ROOT magic: mixing in a bit of C++\n",
    "Here we create a bit of C++ code, which will be visible to both ROOT and Python. The object __code__ and the function __distanceModulus__ are used below in the definition of the probability model."
   ]
  },
  {
   "cell_type": "code",
   "execution_count": 6,
   "metadata": {
    "collapsed": false,
    "deletable": true,
    "editable": true
   },
   "outputs": [
    {
     "name": "stdout",
     "output_type": "stream",
     "text": [
      "\n",
      "\tphantom model\n",
      "\n"
     ]
    }
   ],
   "source": [
    "%%cpp -d\n",
    "Model model(ID);\n",
    "CosmicCode code(model);\n",
    "double distanceModulus(double z, double OM, double OL, double H0, double n=2)\n",
    "{\n",
    "    double p[4] = {OM, OL, H0, n};\n",
    "    return code.distanceModulus(z, p);\n",
    "}"
   ]
  },
  {
   "cell_type": "markdown",
   "metadata": {
    "deletable": true,
    "editable": true
   },
   "source": [
    "check that __ROOT.distanceModulus__ is visible to Python"
   ]
  },
  {
   "cell_type": "code",
   "execution_count": 7,
   "metadata": {
    "collapsed": false,
    "deletable": true,
    "editable": true
   },
   "outputs": [
    {
     "name": "stdout",
     "output_type": "stream",
     "text": [
      "43.9845970443\n"
     ]
    }
   ],
   "source": [
    "print ROOT.distanceModulus(1, 0.3, 0.7, 70, 2)"
   ]
  },
  {
   "cell_type": "markdown",
   "metadata": {
    "deletable": true,
    "editable": true
   },
   "source": [
    "### Create workspace\n",
    "Create an empty workspace called __Type1a__. This is useful for at least two reasons. First, you may wish to save the probability model you have created to a ROOT file. Second, it is much more convenient to use the workspace methods to build a model than to use the __[RooFit](https://root.cern.ch/roofit-20-minutes)__ C++ classes directly."
   ]
  },
  {
   "cell_type": "code",
   "execution_count": 8,
   "metadata": {
    "collapsed": false,
    "deletable": true,
    "editable": true
   },
   "outputs": [
    {
     "name": "stdout",
     "output_type": "stream",
     "text": [
      "\n",
      "\u001b[1mRooFit v3.60 -- Developed by Wouter Verkerke and David Kirkby\u001b[0m \n",
      "                Copyright (C) 2000-2013 NIKHEF, University of California & Stanford University\n",
      "                All rights reserved, please read http://roofit.sourceforge.net/license.txt\n",
      "\n"
     ]
    }
   ],
   "source": [
    "# suppress all messages except fatal ones\n",
    "ROOT.RooMsgService.instance().setGlobalKillBelow(ROOT.RooFit.WARNING)\n",
    "\n",
    "wspace = ROOT.RooWorkspace('Type1a')"
   ]
  },
  {
   "cell_type": "markdown",
   "metadata": {
    "deletable": true,
    "editable": true
   },
   "source": [
    "### Create parameters\n",
    "Create RooFit parameters using the workspace factory method. "
   ]
  },
  {
   "cell_type": "code",
   "execution_count": 9,
   "metadata": {
    "collapsed": false,
    "deletable": true,
    "editable": true
   },
   "outputs": [],
   "source": [
    "def createParameters(wspace, params,\n",
    "                     zmin=ZMIN, zmax=ZMAX, mumin=MUMIN, mumax=MUMAX):    \n",
    "    # measured redshift\n",
    "    wspace.factory('z[%f, %f]' % (zmin, zmax))\n",
    "\n",
    "    # measured distance modulus\n",
    "    wspace.factory('x[%f, %f]' % (mumin, mumax))\n",
    "\n",
    "    # distance modulus uncertainty\n",
    "    wspace.factory('dx[0, 2]')\n",
    "\n",
    "    wspace.defineSet('set_data',  'z,x,dx')\n",
    "    \n",
    "    # cosmological parameters\n",
    "    args = 'z'\n",
    "    for (free, name, guess, step, xmin, xmax) in params:\n",
    "        cmd = '%s[%f, %f, %f]' % (name, guess, xmin, xmax)\n",
    "        wspace.factory(cmd)\n",
    "        args += ',%s' % name\n",
    "        if not free:\n",
    "            wspace.var(name).setConstant()\n",
    "\n",
    "    wspace.defineSet('set_arguments', args)\n",
    "    \n",
    "    wspace.Print()\n",
    "    return args"
   ]
  },
  {
   "cell_type": "code",
   "execution_count": 10,
   "metadata": {
    "collapsed": false,
    "deletable": true,
    "editable": true
   },
   "outputs": [
    {
     "name": "stdout",
     "output_type": "stream",
     "text": [
      "arguments for distanceModulus: (z,OM,OL,H0,n)\n",
      "\n",
      "RooWorkspace(Type1a) Type1a contents\n",
      "\n",
      "variables\n",
      "---------\n",
      "(H0,OL,OM,dx,n,x,z)\n",
      "\n",
      "named sets\n",
      "----------\n",
      "set_arguments:(z,OM,OL,H0,n)\n",
      "set_data:(z,x,dx)\n",
      "\n"
     ]
    }
   ],
   "source": [
    "arguments = createParameters(wspace, params)\n",
    "print 'arguments for distanceModulus: (%s)' % arguments"
   ]
  },
  {
   "cell_type": "markdown",
   "metadata": {
    "deletable": true,
    "editable": true
   },
   "source": [
    "### Load Type 1a supernova data "
   ]
  },
  {
   "cell_type": "code",
   "execution_count": 11,
   "metadata": {
    "collapsed": false,
    "deletable": true,
    "editable": true
   },
   "outputs": [],
   "source": [
    "# ---------------------------------------------------------\n",
    "# read Type Ia data\n",
    "# format: name, z, x, dx\n",
    "# name:     name of supernova\n",
    "# z         measured redshift of supernova\n",
    "# x +/- dx: measured distance modulus\n",
    "# ---------------------------------------------------------\n",
    "def readData(wspace, filename):\n",
    "    import os\n",
    "    from array import array\n",
    "    from string import split, atof\n",
    "    if not os.path.exists(filename):\n",
    "        sys.exit(\"** can't open file %s\" % filename)\n",
    "        \n",
    "    # skip first 5 lines and convert 2nd through 4th\n",
    "    # columns to floats\n",
    "    data = map(lambda x: map(atof, x[1:-1]),\n",
    "                   map(split,\n",
    "                           open(filename).readlines()[5:]))\n",
    "    \n",
    "    # create a RooFit data set\n",
    "    set_data = wspace.set('set_data')\n",
    "    dataset = ROOT.RooDataSet('data', 'Type 1a data', set_data)\n",
    "\n",
    "    print \"number of observations: %d\" % len(data)\n",
    "    print \"%5s\\t%10s\\t%10s +/- %-10s\" % ('', 'z', 'x', 'dx')\n",
    "    \n",
    "    # and fill it with the supernova data\n",
    "    # also copy data to arrays\n",
    "    z  = array('d')\n",
    "    x  = array('d')\n",
    "    dz = array('d')\n",
    "    dx = array('d')\n",
    "    for ii, d in enumerate(data):\n",
    "        z.append(d[0])\n",
    "        x.append(d[1])\n",
    "        dz.append(0)\n",
    "        dx.append(d[2])\n",
    "        \n",
    "        set_data['z'].setVal(z[-1])\n",
    "        set_data['x'].setVal(x[-1])\n",
    "        set_data['dx'].setVal(dx[-1])\n",
    "        dataset.add(set_data)\n",
    "\n",
    "        if ii % 100 == 0:\n",
    "            print \"%5d\\t%10.3f\\t%10.4f +/- %-10.4f\"%\\\n",
    "              (ii, z[-1], x[-1], dx[-1])\n",
    "    \n",
    "    # import data set into workspace\n",
    "    getattr(wspace, 'import')(dataset)\n",
    "    \n",
    "    wspace.Print()\n",
    "    return (z, x, dz, dx)"
   ]
  },
  {
   "cell_type": "code",
   "execution_count": 12,
   "metadata": {
    "collapsed": false,
    "deletable": true,
    "editable": true
   },
   "outputs": [
    {
     "name": "stdout",
     "output_type": "stream",
     "text": [
      "number of observations: 580\n",
      "     \t         z\t         x +/- dx        \n",
      "    0\t     0.028\t   35.3466 +/- 0.2239    \n",
      "  100\t     0.065\t   37.3067 +/- 0.1628    \n",
      "  200\t     0.194\t   39.9615 +/- 0.1264    \n",
      "  300\t     0.620\t   43.2280 +/- 0.3903    \n",
      "  400\t     0.710\t   43.0220 +/- 0.1843    \n",
      "  500\t     0.564\t   42.3729 +/- 0.2920    \n",
      "\n",
      "RooWorkspace(Type1a) Type1a contents\n",
      "\n",
      "variables\n",
      "---------\n",
      "(H0,OL,OM,dx,n,x,z)\n",
      "\n",
      "datasets\n",
      "--------\n",
      "RooDataSet::data(z,x,dx)\n",
      "\n",
      "named sets\n",
      "----------\n",
      "set_arguments:(z,OM,OL,H0,n)\n",
      "set_data:(z,x,dx)\n",
      "\n"
     ]
    }
   ],
   "source": [
    "data = readData(wspace, '../SCPUnion2.1_mu_vs_z.txt')"
   ]
  },
  {
   "cell_type": "code",
   "execution_count": 13,
   "metadata": {
    "collapsed": false,
    "deletable": true,
    "editable": true
   },
   "outputs": [],
   "source": [
    "setStyle()\n",
    "\n",
    "def plotData(data, code, zmin=ZMIN, zmax=ZMAX, mumin=MUMIN, mumax=MUMAX):\n",
    "    from array import array\n",
    "\n",
    "    print \"plot data\"\n",
    "    \n",
    "    z, x, dz, dx = data\n",
    "    ndata   = len(z)\n",
    "    print \"number of observations: %d\" % ndata\n",
    "    \n",
    "    g = mkgraphErrors(z, x, dz, dx,\n",
    "                      \"redshift z\",\n",
    "                      \"distance modulus #mu\", \n",
    "                      zmin, zmax,\n",
    "                      ymin=mumin,\n",
    "                      ymax=mumax, \n",
    "                      color=ROOT.kBlack)\n",
    "    ROOT.SetOwnership(g, 0)\n",
    "    g.SetName('dataplot')\n",
    "    g.SetTitle('')\n",
    "    g.SetMarkerSize(0.2)\n",
    "    \n",
    "    c = ROOT.TCanvas(\"fig_data\", \"SN1a data\", 500, 500)\n",
    "    ROOT.SetOwnership(c, 0)\n",
    "    \n",
    "    c.cd()\n",
    "    g.Draw(\"ap\")\n",
    "    \n",
    "    xpos = 0.32\n",
    "    ypos = 0.50\n",
    "    textsize = 0.035\n",
    "    \n",
    "    scribe = Scribe(xpos, ypos, textsize)\n",
    "    ROOT.SetOwnership(scribe, 0)\n",
    "    scribe.write(\"The Union2.1 Compilation\")\n",
    "    scribe.write(\"The Supernova Cosmology Project\")\n",
    "    scribe.write(\"http://supernova.lbl.gov/Union/figures\")\n",
    "    scribe.write(\"\")\n",
    "    scribe.write(\"#mu = 5 log_{10}d_{L}(z) + C, d_{L} = (1+z)r\")    \n",
    "    c.SaveAs('.pdf')\n",
    "    c.Draw()\n",
    "\n",
    "    return g "
   ]
  },
  {
   "cell_type": "code",
   "execution_count": 14,
   "metadata": {
    "collapsed": false,
    "deletable": true,
    "editable": true
   },
   "outputs": [
    {
     "name": "stdout",
     "output_type": "stream",
     "text": [
      "plot data\n",
      "number of observations: 580\n"
     ]
    },
    {
     "name": "stderr",
     "output_type": "stream",
     "text": [
      "Info in <TCanvas::Print>: pdf file ./fig_data.pdf has been created\n"
     ]
    },
    {
     "data": {
      "image/png": "[encoded data removed]",
      "text/plain": [
       "<IPython.core.display.Image object>"
      ]
     },
     "metadata": {},
     "output_type": "display_data"
    }
   ],
   "source": [
    "gd = plotData(data, ROOT.code)"
   ]
  },
  {
   "cell_type": "markdown",
   "metadata": {
    "deletable": true,
    "editable": true
   },
   "source": [
    "### Create probability model\n",
    "We assume a Gaussian probability density function (pdf),\n",
    "\n",
    "$$f(x \\, | \\, z, \\sigma, \\theta) = \\textrm{Gauss}(x, \\mu(z, \\theta), \\sigma),$$\n",
    "\n",
    "where $\\theta$ are the parameters of the cosmological model. Neglecting correlations amongst the data, the likelihood of the data is\n",
    "\n",
    "$$p(x \\,| \\, z, \\sigma, \\theta) = \\prod_{i=1}^N \\, f(x_i \\, | \\, z_i, \\sigma_i, \\theta),$$\n",
    "\n",
    "with $N = 580$. For a Bayesian calculation, we would, in addition, need to specify a prior density $\\pi(\\theta)$ for the cosmological parameters. We assume that $z_i$ and $\\sigma_i$ are known with negligible uncertainty."
   ]
  },
  {
   "cell_type": "code",
   "execution_count": 15,
   "metadata": {
    "collapsed": false,
    "deletable": true,
    "editable": true
   },
   "outputs": [],
   "source": [
    "def createModel(wspace, arguments):\n",
    "    #--------------------------------------------------------------    \n",
    "    # create distance modulus expression\n",
    "    # \"mu\".\n",
    "    # note use of compiled C++ program\n",
    "    # for expressions that are too\n",
    "    # complicated to be written inline\n",
    "    #--------------------------------------------------------------\n",
    "    print \"create model\"\n",
    " \n",
    "    set_arguments = wspace.set('set_arguments')\n",
    "    cmd = 'distanceModulus(%s)' % arguments\n",
    "    print cmd\n",
    "    \n",
    "    mu  = ROOT.RooFormulaVar('mu', '#mu', cmd, ROOT.RooArgList(set_arguments))\n",
    "    \n",
    "    # import the \"mu\" expression into workspace\n",
    "    getattr(wspace,'import')(mu)\n",
    "\n",
    "    # finally, create probability model\n",
    "    wspace.factory('Gaussian::model(x, mu, dx)')\n",
    "    wspace.Print()"
   ]
  },
  {
   "cell_type": "code",
   "execution_count": 16,
   "metadata": {
    "collapsed": false,
    "deletable": true,
    "editable": true
   },
   "outputs": [
    {
     "name": "stdout",
     "output_type": "stream",
     "text": [
      "create model\n",
      "distanceModulus(z,OM,OL,H0,n)\n",
      "\n",
      "RooWorkspace(Type1a) Type1a contents\n",
      "\n",
      "variables\n",
      "---------\n",
      "(H0,OL,OM,dx,n,x,z)\n",
      "\n",
      "p.d.f.s\n",
      "-------\n",
      "RooGaussian::model[ x=x mean=mu sigma=dx ] = 0.601823\n",
      "\n",
      "functions\n",
      "--------\n",
      "RooFormulaVar::mu[ actualVars=(z,OM,OL,H0,n) formula=\"distanceModulus(z,OM,OL,H0,n)\" ] = 42.7578\n",
      "\n",
      "datasets\n",
      "--------\n",
      "RooDataSet::data(z,x,dx)\n",
      "\n",
      "named sets\n",
      "----------\n",
      "set_arguments:(z,OM,OL,H0,n)\n",
      "set_data:(z,x,dx)\n",
      "\n"
     ]
    }
   ],
   "source": [
    "createModel(wspace, arguments)"
   ]
  },
  {
   "cell_type": "markdown",
   "metadata": {
    "deletable": true,
    "editable": true
   },
   "source": [
    "### Save workspace to a ROOT file "
   ]
  },
  {
   "cell_type": "code",
   "execution_count": 17,
   "metadata": {
    "collapsed": false,
    "deletable": true,
    "editable": true
   },
   "outputs": [],
   "source": [
    "filename = '%s_workspace.root' % MODEL\n",
    "if wspace.writeToFile(filename) != 0:\n",
    "    print \"** problem saveing workspace to ROOT file %s\" % filename"
   ]
  },
  {
   "cell_type": "markdown",
   "metadata": {
    "deletable": true,
    "editable": true
   },
   "source": [
    "\n",
    "\n",
    "\n",
    "## PART 2: Perform Fit\n",
    "\n",
    "Ordinarily, this part would be performed in a separate session, which would require loading the workspace back into memory as follows:\n",
    "\n",
    "```python\n",
    "    filename = '%s_workspace.root' % MODEL\n",
    "    rfile = TFile(filename)\n",
    "    if not rfile.IsOpen():\n",
    "        exit(\"** can't open file %s\" % filename)\n",
    "\n",
    "    name = 'Type1a'\n",
    "    wspace = rfile.Get(name)\n",
    "    if wspace == None:\n",
    "        exit(\"** can't get workspace %s from file %s\" % (name, filename))\n",
    "```\n",
    "\n",
    "However, we shall just continue with the workspace already in memory."
   ]
  },
  {
   "cell_type": "code",
   "execution_count": 18,
   "metadata": {
    "collapsed": false,
    "deletable": true,
    "editable": true
   },
   "outputs": [
    {
     "name": "stdout",
     "output_type": "stream",
     "text": [
      "\n",
      "RooWorkspace(Type1a) Type1a contents\n",
      "\n",
      "variables\n",
      "---------\n",
      "(H0,OL,OM,dx,n,x,z)\n",
      "\n",
      "p.d.f.s\n",
      "-------\n",
      "RooGaussian::model[ x=x mean=mu sigma=dx ] = 0.601823\n",
      "\n",
      "functions\n",
      "--------\n",
      "RooFormulaVar::mu[ actualVars=(z,OM,OL,H0,n) formula=\"distanceModulus(z,OM,OL,H0,n)\" ] = 42.7578\n",
      "\n",
      "datasets\n",
      "--------\n",
      "RooDataSet::data(z,x,dx)\n",
      "\n",
      "named sets\n",
      "----------\n",
      "set_arguments:(z,OM,OL,H0,n)\n",
      "set_data:(z,x,dx)\n",
      "\n"
     ]
    }
   ],
   "source": [
    "wspace.Print()"
   ]
  },
  {
   "cell_type": "code",
   "execution_count": 19,
   "metadata": {
    "collapsed": true,
    "deletable": true,
    "editable": true
   },
   "outputs": [],
   "source": [
    "def performFit(wspace, params, printLevel=-1):\n",
    "    print \"=\"*80\n",
    "    print \"performing fit...\"\n",
    "    swatch = ROOT.TStopwatch()\n",
    "    swatch.Start()\n",
    "\n",
    "    # save results of fit to results\n",
    "    ROOT.RooMsgService.instance().setGlobalKillBelow(ROOT.RooFit.FATAL)\n",
    "    r = wspace.pdf('model').fitTo(wspace.data('data'),\n",
    "                                  ROOT.RooFit.Save(),\n",
    "                                  ROOT.RooFit.PrintLevel(printLevel))\n",
    "    print \"real time: %10.3f s\" % swatch.RealTime()\n",
    "    print \"=\"*80\n",
    "    r.Print()\n",
    "    print \"=\"*80\n",
    "\n",
    "    results = []\n",
    "    npar = 0\n",
    "    for p in params:\n",
    "        free, name = p[:2]\n",
    "        results.append((wspace.var(name).getVal(), wspace.var(name).getError()))\n",
    "        if free:\n",
    "            npar += 1\n",
    "    return (results, npar)"
   ]
  },
  {
   "cell_type": "code",
   "execution_count": 20,
   "metadata": {
    "collapsed": false,
    "deletable": true,
    "editable": true
   },
   "outputs": [
    {
     "name": "stdout",
     "output_type": "stream",
     "text": [
      "================================================================================\n",
      "performing fit...\n",
      "real time:      2.941 s\n",
      "================================================================================\n",
      "================================================================================\n",
      "\n",
      "  RooFitResult: minimized FCN value: 1447.61, estimated distance to minimum: 8.69769e-10\n",
      "                covariance matrix quality: Full, accurate covariance matrix\n",
      "                Status : MINIMIZE=0 HESSE=0 \n",
      "\n",
      "    Floating Parameter    FinalValue +/-  Error   \n",
      "  --------------------  --------------------------\n",
      "                    H0    7.0425e+01 +/-  4.53e-01\n",
      "                     n    2.8213e+00 +/-  1.87e-01\n",
      "\n"
     ]
    }
   ],
   "source": [
    "results, npar = performFit(wspace, params)"
   ]
  },
  {
   "cell_type": "markdown",
   "metadata": {
    "deletable": true,
    "editable": true
   },
   "source": [
    "## Plot Results"
   ]
  },
  {
   "cell_type": "code",
   "execution_count": 21,
   "metadata": {
    "collapsed": true,
    "deletable": true,
    "editable": true
   },
   "outputs": [],
   "source": [
    "def annotate(modelname, scribe, results, offset=0.01):\n",
    "    if modelname == 'LCDM':\n",
    "        OM = tuple(results[0])\n",
    "        OL = tuple(results[1])\n",
    "        scribe.write(\"#LambdaCDM model\")\n",
    "        scribe.write(\"\")\n",
    "        scribe.write(\"#Omega(a) = #frac{#Omega_{M}}{a^{3}} + \"\n",
    "              \"#frac{(1 - #Omega_{M} - #Omega_{#Lambda})}{a^{2}}\"\n",
    "                      \" + #Omega_{#Lambda}\",\n",
    "                      offset)\n",
    "        scribe.write(\"\")\n",
    "        scribe.write(\"#Omega_{M} = %5.2f #pm %-5.2f\" % OM,\n",
    "                      offset)\n",
    "        scribe.write(\"#Omega_{#Lambda} = %5.2f #pm %-5.2f \" % OL,\n",
    "                      offset)\n",
    "    else:\n",
    "        n, dn = results[3]\n",
    "        x = 3.0/(2*n)\n",
    "        G = ROOT.TMath.Gamma(x)\n",
    "        T = G*ROOT.TMath.Sqrt(2.718)*2**x/n        \n",
    "        scribe.write(\"phantom model\")\n",
    "        scribe.write(\"\")\n",
    "        scribe.write(\"#Omega(a) = #frac{#Omega_{M}}{a^{3}} + \"\n",
    "                  \"#frac{e^{a^{n}-1} - #Omega_{M}}{a^{3}}\", offset)\n",
    "        scribe.write(\"\")\n",
    "        scribe.write(\"H_{0}t = #sqrt{e} 2^{3/(2n)} #Gamma(3/(2n), a^{n}/2)/n\", offset)\n",
    "        scribe.write(\"\")\n",
    "        scribe.write(\"H_{0}t_{rip} = #sqrt{e} 2^{3/(2n)} #Gamma(3/(2n))/n = %4.2f\" % T,\n",
    "                      offset)\n",
    "        scribe.write(\"\")\n",
    "        scribe.write(\"where #Gamma(s, x) = #int_{0}^{x} t^{s-1} e^{-t} dt\", offset)\n",
    "        scribe.write(\"and n = %4.2f\" % n, offset)    "
   ]
  },
  {
   "cell_type": "code",
   "execution_count": 22,
   "metadata": {
    "collapsed": true,
    "deletable": true,
    "editable": true
   },
   "outputs": [],
   "source": [
    "def plotModel(modelname, code, results, npar,\n",
    "              gd, data, \n",
    "              zmin=ZMIN, zmax=ZMAX, mumin=MUMIN, mumax=MUMAX):\n",
    "    from array import array\n",
    "    p = array('d')\n",
    "    for value, error in results:\n",
    "        p.append(value)\n",
    "\n",
    "    z, x, dz, dx = data\n",
    "    ndata = len(z)\n",
    "    \n",
    "    # compute chisq\n",
    "    chi2 = 0.0\n",
    "    for i in xrange(ndata):    \n",
    "        mu = code.distanceModulus(z[i], p)\n",
    "        c = (x[i] - mu)/dx[i]\n",
    "        chi2 += c*c        \n",
    "    NDF = ndata - npar # number of degrees of freedom\n",
    "    \n",
    "    # compute curve\n",
    "    nz = 100\n",
    "    zstep = (zmax - zmin) / nz\n",
    "    zz = array('d')\n",
    "    mu = array('d')\n",
    "    for ii in xrange(nz):\n",
    "        zz.append( (ii+0.5)*zstep )\n",
    "        mu.append( code.distanceModulus(zz[-1], p) )\n",
    "\n",
    "    g = mkgraph(zz, mu,\n",
    "                \"redshift z\", \n",
    "                \"distance modulus #mu\", \n",
    "                zmin, zmax, color=ROOT.kRed, lwidth=2)\n",
    "    ROOT.SetOwnership(g, 0)\n",
    "    g.SetName('model')\n",
    "    g.SetTitle('')\n",
    "    \n",
    "    c = ROOT.TCanvas(\"fig_%s_fit\" % modelname, \"SN1a model fit\", 500, 500)\n",
    "    ROOT.SetOwnership(c, 0)\n",
    "    \n",
    "    c.cd()\n",
    "    g.Draw('ac')\n",
    "    gd.Draw('psame')\n",
    "    g.Draw('csame')\n",
    "    \n",
    "    xpos = 0.32\n",
    "    ypos = 0.50\n",
    "    textsize = 0.035\n",
    "    scribe = Scribe(xpos, ypos, textsize)\n",
    "    ROOT.SetOwnership(scribe, 0)\n",
    "    scribe.write(\"The Union2.1 Compilation\")\n",
    "    scribe.write(\"The Supernova Cosmology Project\")\n",
    "    scribe.write(\"http://supernova.lbl.gov/Union/figures\")\n",
    "    scribe.write(\"\")\n",
    "    scribe.write(\"#chi^{2} / NDF = %5.1f / %d = %5.2f\" % (chi2, NDF, chi2/NDF))  \n",
    "\n",
    "    c.Draw()\n",
    "    c.SaveAs(\".pdf\")"
   ]
  },
  {
   "cell_type": "code",
   "execution_count": 23,
   "metadata": {
    "collapsed": false,
    "deletable": true,
    "editable": true
   },
   "outputs": [
    {
     "name": "stderr",
     "output_type": "stream",
     "text": [
      "Info in <TCanvas::Print>: pdf file ./fig_phantom_fit.pdf has been created\n"
     ]
    },
    {
     "data": {
      "image/png": "[encoded data removed]",
      "text/plain": [
       "<IPython.core.display.Image object>"
      ]
     },
     "metadata": {},
     "output_type": "display_data"
    }
   ],
   "source": [
    "plotModel(MODEL, ROOT.code, results, npar, gd, data)"
   ]
  },
  {
   "cell_type": "code",
   "execution_count": 24,
   "metadata": {
    "collapsed": true,
    "deletable": true,
    "editable": true
   },
   "outputs": [],
   "source": [
    "def plotScaleFactor(modelname, code, results, amax=10, tmax=2):\n",
    "    from array import array\n",
    "\n",
    "    p = array('d')\n",
    "    for value, error in results:\n",
    "        p.append(value)\n",
    "        \n",
    "    # create a vs H0 t plot\n",
    "    a = array('d'); a.fromlist(code.N*[0])\n",
    "    t = array('d'); t.fromlist(code.N*[0])\n",
    "    code.scaleFactor(amax, p, t, a)\n",
    "    g = mkgraph(t, a,\n",
    "                \"H_{0}t}\", \"a(t)\", \n",
    "                0, tmax, color=ROOT.kBlue, lwidth=2)\n",
    "    ROOT.SetOwnership(g, 0)\n",
    "    g.SetName('scaleFactor')\n",
    "\n",
    "    # create horizontal line at a = 1\n",
    "    x = array('d'); x.append(0); x.append(tmax)\n",
    "    y = array('d'); y.append(1); y.append(1)\n",
    "    glineH = mkgraph(x, y, '', '', 0, tmax, \n",
    "                     color=ROOT.kMagenta+1, lwidth=2)\n",
    "    ROOT.SetOwnership(glineH, 0)\n",
    "    glineH.SetName('line')\n",
    "    \n",
    "    c = ROOT.TCanvas(\"fig_%s_scaleFactor\" % modelname, \n",
    "                     \"SN1a scalefactor\",\n",
    "                     500, 500)\n",
    "    ROOT.SetOwnership(c, 0)\n",
    "    c.cd()\n",
    "    htmp = mkhist1('htmp', 'H_{0}t', 'a(t)',\n",
    "                       50, 0, tmax, ymin=0, ymax=10)\n",
    "    ROOT.SetOwnership(htmp, 0)\n",
    "    htmp.Draw()\n",
    "    g.Draw('csame')\n",
    "    glineH.Draw('csame')\n",
    "\n",
    "    offset = 0.05\n",
    "    xpos = 0.25\n",
    "    ypos = 0.87\n",
    "    scribe = Scribe(xpos, ypos)\n",
    "    ROOT.SetOwnership(scribe, 0)\n",
    "    annotate(modelname, scribe, results, offset)\n",
    "    c.Draw()\n",
    "    c.SaveAs(\".pdf\")    "
   ]
  },
  {
   "cell_type": "code",
   "execution_count": 25,
   "metadata": {
    "collapsed": false,
    "deletable": true,
    "editable": true
   },
   "outputs": [
    {
     "name": "stderr",
     "output_type": "stream",
     "text": [
      "Info in <TCanvas::Print>: pdf file ./fig_phantom_scaleFactor.pdf has been created\n"
     ]
    },
    {
     "data": {
      "image/png": "[encoded data removed]",
      "text/plain": [
       "<IPython.core.display.Image object>"
      ]
     },
     "metadata": {},
     "output_type": "display_data"
    }
   ],
   "source": [
    "plotScaleFactor(MODEL, ROOT.code, results)"
   ]
  },
  {
   "cell_type": "code",
   "execution_count": null,
   "metadata": {
    "collapsed": true
   },
   "outputs": [],
   "source": []
  }
 ],
 "metadata": {
  "kernelspec": {
   "display_name": "Python 2",
   "language": "python",
   "name": "python2"
  },
  "language_info": {
   "codemirror_mode": {
    "name": "ipython",
    "version": 2
   },
   "file_extension": ".py",
   "mimetype": "text/x-python",
   "name": "python",
   "nbconvert_exporter": "python",
   "pygments_lexer": "ipython2",
   "version": "2.7.9"
  }
 },
 "nbformat": 4,
 "nbformat_minor": 0
}
