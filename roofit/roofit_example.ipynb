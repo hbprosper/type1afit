{
 "cells": [
  {
   "cell_type": "markdown",
   "metadata": {},
   "source": [
    "# RooFit Tutorial: Fit Cosmological Models to Type 1a Supernova Data\n",
    "### Created:  Summer 2017 Harrison B. Prosper\n",
    "## Introduction\n",
    "In this tutorial, we use the probability modeling package __[RooFit](https://root.cern.ch/roofit-20-minutes)__, released with the CERN data analysis package __[ROOT](http://root.cern.ch)__, to perform fits of simple cosmological models to Type 1a supernova data. See the __minuit_example.ipynb__ to get some background to this problem. \n",
    "\n",
    "__prerequisite__: some familiarity with __[Python](http://www.python.org)__ and __[ROOT](http://root.cern.ch)__ is helpful."
   ]
  },
  {
   "cell_type": "markdown",
   "metadata": {},
   "source": [
    "### Load Type 1a utilities"
   ]
  },
  {
   "cell_type": "code",
   "execution_count": 1,
   "metadata": {},
   "outputs": [
    {
     "name": "stdout",
     "output_type": "stream",
     "text": [
      "Welcome to JupyROOT 6.24/00\n"
     ]
    }
   ],
   "source": [
    "%run ../type1autil.ipynb"
   ]
  },
  {
   "cell_type": "markdown",
   "metadata": {},
   "source": [
    "### Read Type 1a supernova data "
   ]
  },
  {
   "cell_type": "code",
   "execution_count": 2,
   "metadata": {},
   "outputs": [
    {
     "name": "stdout",
     "output_type": "stream",
     "text": [
      "number of observations: 580\n",
      "     \t         z\t         x +/- dx        \n",
      "    0\t     0.028\t   35.3466 +/- 0.2239    \n",
      "  100\t     0.065\t   37.3067 +/- 0.1628    \n",
      "  200\t     0.194\t   39.9615 +/- 0.1264    \n",
      "  300\t     0.620\t   43.2280 +/- 0.3903    \n",
      "  400\t     0.710\t   43.0220 +/- 0.1843    \n",
      "  500\t     0.564\t   42.3729 +/- 0.2920    \n",
      "\n",
      "fig_union_2_1_data.pdf\n"
     ]
    },
    {
     "data": {
      "image/png": "[encoded data removed]",
      "text/plain": [
       "<Figure size 576x360 with 1 Axes>"
      ]
     },
     "metadata": {
      "needs_background": "light"
     },
     "output_type": "display_data"
    }
   ],
   "source": [
    "# place results in a bag for later use\n",
    "class Bag: pass\n",
    "\n",
    "bag = Bag()\n",
    "\n",
    "filename = '../SCPUnion2.1_mu_vs_z.txt'\n",
    "\n",
    "bag.z, bag.mu, bag.dmu = read_data(filename)\n",
    "\n",
    "plot_data(bag)"
   ]
  },
  {
   "cell_type": "markdown",
   "metadata": {},
   "source": [
    "### Choose model\n",
    "   * 'LCDM' or 'phantom'\n",
    "   * Compile C++ CosmicCode using ROOT"
   ]
  },
  {
   "cell_type": "code",
   "execution_count": 3,
   "metadata": {},
   "outputs": [
    {
     "name": "stdout",
     "output_type": "stream",
     "text": [
      "\n",
      "Initial values of free parameters for LCDM model\n",
      "OM\t 0.30\n",
      "OL\t 0.70\n",
      "H0\t70.00\n",
      "\n",
      "\tLCDM model\n",
      "\n"
     ]
    }
   ],
   "source": [
    "bag.name = 'LCDM'\n",
    "\n",
    "bag.code, bag.params = compileCode(bag, PARAMS)\n",
    "\n",
    "# initialize a C array for the parameters; this is needed for\n",
    "# distanceModulus\n",
    "bag.p = array('d')\n",
    "\n",
    "print('\\nInitial values of free parameters for %s model' % bag.name)\n",
    "\n",
    "for name, value, _, _ in bag.params:\n",
    "    bag.p.append(value)\n",
    "    print('%s\\t%5.2f' % (name, value)) \n",
    "        \n",
    "guess = np.array(bag.p)"
   ]
  },
  {
   "cell_type": "markdown",
   "metadata": {},
   "source": [
    "### Create workspace\n",
    "Create an empty workspace called __Type1a__. This is useful for at least two reasons. First, you may wish to save the probability model you have created to a ROOT file. Second, it is much more convenient to use the workspace methods to build a model than to use the __[RooFit](https://root.cern.ch/roofit-20-minutes)__ C++ classes directly."
   ]
  },
  {
   "cell_type": "code",
   "execution_count": 4,
   "metadata": {},
   "outputs": [
    {
     "name": "stdout",
     "output_type": "stream",
     "text": [
      "\n",
      "\u001b[1mRooFit v3.60 -- Developed by Wouter Verkerke and David Kirkby\u001b[0m \n",
      "                Copyright (C) 2000-2013 NIKHEF, University of California & Stanford University\n",
      "                All rights reserved, please read http://roofit.sourceforge.net/license.txt\n",
      "\n"
     ]
    }
   ],
   "source": [
    "# suppress all messages except fatal ones\n",
    "ROOT.RooMsgService.instance().setGlobalKillBelow(ROOT.RooFit.WARNING)\n",
    "\n",
    "# add to bag\n",
    "bag.wspace = ROOT.RooWorkspace('Type1a')"
   ]
  },
  {
   "cell_type": "markdown",
   "metadata": {},
   "source": [
    "### Create parameters\n",
    "Create RooFit parameters using the workspace factory method. "
   ]
  },
  {
   "cell_type": "code",
   "execution_count": 5,
   "metadata": {},
   "outputs": [],
   "source": [
    "def create_parameters(bag,\n",
    "                      zmin=ZMIN, zmax=ZMAX, \n",
    "                      mumin=MUMIN, mumax=MUMAX):\n",
    "    # create an alias\n",
    "    wspace = bag.wspace\n",
    "       \n",
    "    # measured distance modulus\n",
    "    wspace.factory('mu[%f, %f]' % (mumin, mumax))\n",
    "\n",
    "    # measured redshift\n",
    "    wspace.factory('z[%f, %f]' % (zmin, zmax))\n",
    "\n",
    "    # distance modulus uncertainty\n",
    "    wspace.factory('dmu[0.01, 5.0]')\n",
    "\n",
    "    wspace.defineSet('set_data', 'z,mu,dmu')\n",
    "    \n",
    "    # cosmological parameters\n",
    "    p = [] # parameters to be passed to distanceModulus\n",
    "    args  = 'z'\n",
    "    for name, guess, pmin, pmax in bag.params:\n",
    "        cmd = '%s[%f, %f, %f]' % (name, guess, pmin, pmax)\n",
    "        wspace.factory(cmd)\n",
    "        print(cmd)\n",
    "        args += ',%s' % name\n",
    "        p.append(guess)\n",
    "      \n",
    "    # place them in the bag\n",
    "    bag.p = array('d')\n",
    "    bag.p.fromlist(p)\n",
    "    \n",
    "    wspace.defineSet('set_arguments', args)\n",
    "    wspace.Print()"
   ]
  },
  {
   "cell_type": "code",
   "execution_count": 6,
   "metadata": {},
   "outputs": [
    {
     "name": "stdout",
     "output_type": "stream",
     "text": [
      "OM[0.300000, 0.000000, 10.000000]\n",
      "OL[0.700000, 0.000000, 10.000000]\n",
      "H0[70.000000, 1.000000, 200.000000]\n",
      "\n",
      "RooWorkspace(Type1a) Type1a contents\n",
      "\n",
      "variables\n",
      "---------\n",
      "(H0,OL,OM,dmu,mu,z)\n",
      "\n",
      "named sets\n",
      "----------\n",
      "set_arguments:(z,OM,OL,H0)\n",
      "set_data:(z,mu,dmu)\n",
      "\n"
     ]
    }
   ],
   "source": [
    "create_parameters(bag)"
   ]
  },
  {
   "cell_type": "markdown",
   "metadata": {},
   "source": [
    "### Add data to workspace"
   ]
  },
  {
   "cell_type": "code",
   "execution_count": 7,
   "metadata": {},
   "outputs": [],
   "source": [
    "def add_data_to_workspace(bag):\n",
    "    wspace = bag.wspace\n",
    "    \n",
    "    # create a RooFit data set\n",
    "    set_data = wspace.set('set_data')\n",
    "    dataset  = ROOT.RooDataSet('data', 'Type 1a data', set_data)\n",
    "    \n",
    "    for ii, (u, x, dx) in enumerate(zip(bag.z, bag.mu, bag.dmu)):\n",
    "        if ii % 100 == 0:\n",
    "            print(\"%5d\\t%10.3f\\t%10.4f +/- %-10.4f\"% (ii, u, x, dx))\n",
    "            \n",
    "        set_data['z'].setVal(u)\n",
    "        set_data['mu'].setVal(x)\n",
    "        set_data['dmu'].setVal(dx)\n",
    "        dataset.add(set_data)\n",
    "            \n",
    "    # import data set into workspace\n",
    "    getattr(wspace, 'import')(dataset)\n",
    "    \n",
    "    wspace.Print()"
   ]
  },
  {
   "cell_type": "code",
   "execution_count": 8,
   "metadata": {},
   "outputs": [
    {
     "name": "stdout",
     "output_type": "stream",
     "text": [
      "    0\t     0.028\t   35.3466 +/- 0.2239    \n",
      "  100\t     0.065\t   37.3067 +/- 0.1628    \n",
      "  200\t     0.194\t   39.9615 +/- 0.1264    \n",
      "  300\t     0.620\t   43.2280 +/- 0.3903    \n",
      "  400\t     0.710\t   43.0220 +/- 0.1843    \n",
      "  500\t     0.564\t   42.3729 +/- 0.2920    \n",
      "\n",
      "RooWorkspace(Type1a) Type1a contents\n",
      "\n",
      "variables\n",
      "---------\n",
      "(H0,OL,OM,dmu,mu,z)\n",
      "\n",
      "datasets\n",
      "--------\n",
      "RooDataSet::data(z,mu,dmu)\n",
      "\n",
      "named sets\n",
      "----------\n",
      "set_arguments:(z,OM,OL,H0)\n",
      "set_data:(z,mu,dmu)\n",
      "\n"
     ]
    }
   ],
   "source": [
    "add_data_to_workspace(bag)"
   ]
  },
  {
   "cell_type": "markdown",
   "metadata": {},
   "source": [
    "### Create probability model\n",
    "We assume a Gaussian probability density function (pdf),\n",
    "\n",
    "$$f(\\mu \\, | \\, z, \\sigma, \\theta) = \\textrm{Gauss}(\\mu, m(z, \\theta), \\sigma),$$\n",
    "\n",
    "where $\\mu$ and $z$ are the measured distance modulus and red-shift, respectively, and $\\theta$ are the parameters of the cosmological model $m$ for the distance modulus. Neglecting correlations amongst the data, the likelihood is given by\n",
    "\n",
    "$$p(\\mu \\,| \\, z, \\sigma, \\theta) = \\prod_{i=1}^N \\, f(\\mu_i \\, | \\, z_i, \\sigma_i, \\theta),$$\n",
    "\n",
    "with $N = 580$. For a Bayesian calculation, we would, in addition, specify a prior density $\\pi(\\theta)$ for the cosmological parameters. We assume that $z_i$ and $\\sigma_i$ are known with negligible uncertainty."
   ]
  },
  {
   "cell_type": "markdown",
   "metadata": {},
   "source": [
    "#### A useful bit of ROOT magic: mixing in a bit of C++\n",
    "Here we create a bit of C++ code, which will be visible to both ROOT and Python. The object __code__ and the function __distanceModulus__ are used below in the definition of the probability model. \n",
    "\n",
    "Note the hack to make __code__ object visible to ROOT."
   ]
  },
  {
   "cell_type": "code",
   "execution_count": 9,
   "metadata": {},
   "outputs": [
    {
     "name": "stdout",
     "output_type": "stream",
     "text": [
      "(CosmicCode *) 0x7ff015a41aa0\n"
     ]
    }
   ],
   "source": [
    "addr = bag.code.__str__()[1:-1].split()[-1]\n",
    "cmd  = \"CosmicCode* code = (CosmicCode*)%s\" % addr\n",
    "ROOT.gROOT.ProcessLine(cmd);"
   ]
  },
  {
   "cell_type": "code",
   "execution_count": 10,
   "metadata": {},
   "outputs": [],
   "source": [
    "%%cpp -d\n",
    "double distanceModulus(double z, \n",
    "                       double OM, \n",
    "                       double OL, \n",
    "                       double H0) \n",
    "{\n",
    "    double p[3] = {OM, OL, H0};\n",
    "    return code->distanceModulus(z, p);\n",
    "}\n",
    "\n",
    "double distanceModulus(double z, \n",
    "                       double n, \n",
    "                       double H0) \n",
    "{\n",
    "    double p[2] = {n, H0};\n",
    "    return code->distanceModulus(z, p);\n",
    "}"
   ]
  },
  {
   "cell_type": "markdown",
   "metadata": {},
   "source": [
    "Check that the hack works."
   ]
  },
  {
   "cell_type": "code",
   "execution_count": 11,
   "metadata": {},
   "outputs": [
    {
     "name": "stdout",
     "output_type": "stream",
     "text": [
      "44.094488425239334\n",
      "44.094488425239334\n"
     ]
    }
   ],
   "source": [
    "print(ROOT.distanceModulus(1, 0.3, 0.7, 70))\n",
    "print(bag.code.distanceModulus(1, bag.p))"
   ]
  },
  {
   "cell_type": "code",
   "execution_count": 12,
   "metadata": {},
   "outputs": [],
   "source": [
    "def create_model(bag):\n",
    "    #--------------------------------------------------------------    \n",
    "    # create distance modulus expression \"m\".\n",
    "    # note use of compiled C++ program for expressions that are too\n",
    "    # complicated to be written inline\n",
    "    #--------------------------------------------------------------\n",
    "    wspace = bag.wspace\n",
    " \n",
    "    set_arguments = wspace.set('set_arguments')\n",
    "    arguments = ','.join([i.GetName()  for i in set_arguments])\n",
    "    cmd = 'distanceModulus(%s)\\n' % arguments\n",
    "    print(cmd)\n",
    "    \n",
    "    # creating fmu = distanceModulus(z, ...)\n",
    "    m = ROOT.RooFormulaVar('m', 'm', cmd, \n",
    "                           ROOT.RooArgList(set_arguments))\n",
    "\n",
    "    # import the \"m\" expression into workspace\n",
    "    getattr(wspace,'import')(m)\n",
    "\n",
    "    # finally, create probability model\n",
    "    wspace.factory('Gaussian::model(mu, m, dmu)')\n",
    "    wspace.Print()"
   ]
  },
  {
   "cell_type": "code",
   "execution_count": 13,
   "metadata": {},
   "outputs": [
    {
     "name": "stdout",
     "output_type": "stream",
     "text": [
      "distanceModulus(z,OM,OL,H0)\n",
      "\n",
      "\n",
      "RooWorkspace(Type1a) Type1a contents\n",
      "\n",
      "variables\n",
      "---------\n",
      "(H0,OL,OM,dmu,mu,z)\n",
      "\n",
      "p.d.f.s\n",
      "-------\n",
      "RooGaussian::model[ x=mu mean=m sigma=dmu ] = 0.42012\n",
      "\n",
      "functions\n",
      "--------\n",
      "RooFormulaVar::m[ actualVars=(z,OM,OL,H0) formula=\"distanceModulus(x[0],x[1],x[2],x[3])\n",
      "\" ] = 42.8325\n",
      "\n",
      "datasets\n",
      "--------\n",
      "RooDataSet::data(z,mu,dmu)\n",
      "\n",
      "named sets\n",
      "----------\n",
      "set_arguments:(z,OM,OL,H0)\n",
      "set_data:(z,mu,dmu)\n",
      "\n"
     ]
    }
   ],
   "source": [
    "create_model(bag)"
   ]
  },
  {
   "cell_type": "markdown",
   "metadata": {},
   "source": [
    "### Save workspace to a ROOT file "
   ]
  },
  {
   "cell_type": "code",
   "execution_count": 14,
   "metadata": {},
   "outputs": [],
   "source": [
    "filename = '%s_workspace.root' % bag.name\n",
    "if bag.wspace.writeToFile(filename) != 0:\n",
    "    print(\"** problem saveing workspace to ROOT file %s\" % filename)"
   ]
  },
  {
   "cell_type": "markdown",
   "metadata": {},
   "source": [
    "\n",
    "\n",
    "\n",
    "## PART 2: Perform Fit\n",
    "\n",
    "Ordinarily, this part would be performed in a separate session, which would require loading the workspace back into memory as follows:\n",
    "\n",
    "```python\n",
    "    filename = '%s_workspace.root' % MODEL\n",
    "    rfile = TFile(filename)\n",
    "    if not rfile.IsOpen():\n",
    "        exit(\"** can't open file %s\" % filename)\n",
    "\n",
    "    name = 'Type1a'\n",
    "    wspace = rfile.Get(name)\n",
    "    if wspace == None:\n",
    "        exit(\"** can't get workspace %s from file %s\" % \\\n",
    "             (name, filename))\n",
    "```\n",
    "\n",
    "However, we shall just continue with the workspace already in memory."
   ]
  },
  {
   "cell_type": "code",
   "execution_count": 20,
   "metadata": {},
   "outputs": [],
   "source": [
    "def minimize(bag, printLevel=-1):\n",
    "    wspace = bag.wspace\n",
    "\n",
    "    swatch = ROOT.TStopwatch()\n",
    "    swatch.Start()\n",
    "\n",
    "    # save results of fit\n",
    "    ROOT.RooMsgService.instance().\\\n",
    "        setGlobalKillBelow(ROOT.RooFit.FATAL)\n",
    "    \n",
    "    model= wspace.pdf('model')\n",
    "    data = wspace.data('data')\n",
    "    res  = model.fitTo(data, \n",
    "                       ROOT.RooFit.Save(),\n",
    "                       ROOT.RooFit.PrintLevel(printLevel))\n",
    "    \n",
    "    print(\"real time: %10.3f s\" % swatch.RealTime())\n",
    "    print()\n",
    "    res.Print()\n",
    "    \n",
    "    c = res.covarianceMatrix()\n",
    "    x = []\n",
    "    cov = []\n",
    "    for i, (name, guess, _, _) in enumerate(bag.params):\n",
    "        x.append(wspace.var(name).getVal())\n",
    "        cov.append([])\n",
    "        for j in range(len(bag.params)):\n",
    "            cov[-1].append(c[i][j])\n",
    "    return (np.array(x), np.array(cov))"
   ]
  },
  {
   "cell_type": "code",
   "execution_count": 21,
   "metadata": {},
   "outputs": [
    {
     "name": "stdout",
     "output_type": "stream",
     "text": [
      "real time:      2.842 s\n",
      "\n",
      "\n",
      "  RooFitResult: minimized FCN value: 2404.32, estimated distance to minimum: 2.21797e-06\n",
      "                covariance matrix quality: Full, accurate covariance matrix\n",
      "                Status : MINIMIZE=0 HESSE=0 \n",
      "\n",
      "    Floating Parameter    FinalValue +/-  Error   \n",
      "  --------------------  --------------------------\n",
      "                    H0    6.9643e+01 +/-  4.41e-01\n",
      "                    OL    5.9432e-01 +/-  1.24e-01\n",
      "                    OM    1.6966e-01 +/-  7.51e-02\n",
      "\n"
     ]
    }
   ],
   "source": [
    "bag.x, bag.cov = minimize(bag)"
   ]
  },
  {
   "cell_type": "code",
   "execution_count": 24,
   "metadata": {},
   "outputs": [],
   "source": [
    "def nll(pars, *args):\n",
    "    bag = args[0]\n",
    "    \n",
    "    # copy from numpy array to regular array\n",
    "    for i, v in enumerate(pars): bag.p[i] = v\n",
    "   \n",
    "    f = np.array([ROOT.code.distanceModulus(u, bag.p) for u in bag.z])      \n",
    "    c = (bag.mu - f) / bag.dmu\n",
    "    c = c * c \n",
    "    return c.sum()/2"
   ]
  },
  {
   "cell_type": "markdown",
   "metadata": {},
   "source": [
    "### Plot Results"
   ]
  },
  {
   "cell_type": "code",
   "execution_count": 26,
   "metadata": {},
   "outputs": [
    {
     "name": "stdout",
     "output_type": "stream",
     "text": [
      "\n",
      "fig_LCDM_union_2_1_fit.pdf\n"
     ]
    },
    {
     "data": {
      "image/png": "[encoded data removed]",
      "text/plain": [
       "<Figure size 576x360 with 1 Axes>"
      ]
     },
     "metadata": {
      "needs_background": "light"
     },
     "output_type": "display_data"
    }
   ],
   "source": [
    "plot_data(bag, nll)"
   ]
  },
  {
   "cell_type": "markdown",
   "metadata": {
    "collapsed": true
   },
   "source": [
    "### Plot predicted scale factor vs. time"
   ]
  },
  {
   "cell_type": "code",
   "execution_count": 27,
   "metadata": {},
   "outputs": [
    {
     "name": "stdout",
     "output_type": "stream",
     "text": [
      "\n",
      "fig_LCDM_scale_factor.pdf\n"
     ]
    },
    {
     "data": {
      "image/png": "[encoded data removed]",
      "text/plain": [
       "<Figure size 432x360 with 1 Axes>"
      ]
     },
     "metadata": {
      "needs_background": "light"
     },
     "output_type": "display_data"
    }
   ],
   "source": [
    "plot_scale_factor(bag)"
   ]
  },
  {
   "cell_type": "code",
   "execution_count": null,
   "metadata": {},
   "outputs": [],
   "source": []
  }
 ],
 "metadata": {
  "kernelspec": {
   "display_name": "Python 3 (ipykernel)",
   "language": "python",
   "name": "python3"
  },
  "language_info": {
   "codemirror_mode": {
    "name": "ipython",
    "version": 3
   },
   "file_extension": ".py",
   "mimetype": "text/x-python",
   "name": "python",
   "nbconvert_exporter": "python",
   "pygments_lexer": "ipython3",
   "version": "3.8.11"
  }
 },
 "nbformat": 4,
 "nbformat_minor": 1
}
