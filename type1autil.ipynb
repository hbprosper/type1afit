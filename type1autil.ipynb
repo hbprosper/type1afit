{
 "cells": [
  {
   "cell_type": "markdown",
   "metadata": {},
   "source": [
    "# Utilities for Type 1a Supernova Fits\n",
    " >__Created__:  Summer 2017 Harrison B. Prosper<br>\n",
    " >__Updated__:  Fall 2021 for LPC Stats 2021\n"
   ]
  },
  {
   "cell_type": "code",
   "execution_count": 1,
   "metadata": {},
   "outputs": [
    {
     "name": "stdout",
     "output_type": "stream",
     "text": [
      "Welcome to JupyROOT 6.24/00\n"
     ]
    }
   ],
   "source": [
    "# standard system modules\n",
    "import os, sys\n",
    "\n",
    "# standard table manipulation module\n",
    "#import pandas as pd\n",
    "\n",
    "# standard array manipulation module\n",
    "import numpy as np\n",
    "from array import array\n",
    "\n",
    "# standard scientific python module\n",
    "#import scipy as sp\n",
    "#import scipy.stats as st\n",
    "#import scipy.optimize as op\n",
    "\n",
    "# CERN data analysis package\n",
    "import ROOT\n",
    "\n",
    "# wrapper around Minuit\n",
    "import iminuit as im\n",
    "\n",
    "# standard symbolic algebra pakage\n",
    "#import sympy as sm\n",
    "\n",
    "# standard plotting module\n",
    "import matplotlib as mp\n",
    "import matplotlib.pyplot as plt\n",
    "\n",
    "# make plots appear inline\n",
    "%matplotlib inline"
   ]
  },
  {
   "cell_type": "code",
   "execution_count": 2,
   "metadata": {},
   "outputs": [],
   "source": [
    "# update fonts\n",
    "font = {'family' : 'serif',\n",
    "        'weight' : 'normal',\n",
    "        'size'   : 20\n",
    "        }\n",
    "mp.rc('font', **font)\n",
    "mp.rc('xtick', labelsize='x-small')\n",
    "mp.rc('ytick', labelsize='x-small')\n",
    "\n",
    "# set usetex = False if Latex is not available on your system\n",
    "mp.rc('text', usetex=True)"
   ]
  },
  {
   "cell_type": "markdown",
   "metadata": {},
   "source": [
    "### Model parameters\n",
    "\n",
    "  * ID: model identifier\n",
    "  * free: specifies whether parameter is free\n",
    "  * name: name of parameter\n",
    "  * guess: starting (or fixed) value of parameter"
   ]
  },
  {
   "cell_type": "code",
   "execution_count": 3,
   "metadata": {},
   "outputs": [],
   "source": [
    "LCDM  = 0\n",
    "PHANTOM = 1\n",
    "\n",
    "#                      ID,     (name,  guess, min, max)\n",
    "PARAMS = {'LCDM' :   [LCDM,    [('OM', 0.3, 0.0, 10.0), \n",
    "                                ('OL', 0.7, 0.0, 10.0), \n",
    "                                ('H0', 70,  1.0,200.0)]],\n",
    "          'phantom': [PHANTOM, [('n',   2,  0.0, 10.0), \n",
    "                                ('H0', 70,  1.0,200.0)]]           \n",
    "         }\n",
    "\n",
    "# define ranges for redshifts and distance moduli\n",
    "ZMIN  = 0.0 \n",
    "ZMAX  = 1.6\n",
    "MUMIN = 32.0\n",
    "MUMAX = 46.0\n",
    "\n",
    "# bag for data etc.\n",
    "class Bag: pass"
   ]
  },
  {
   "cell_type": "markdown",
   "metadata": {},
   "source": [
    "### Compile C++ classe CosmicCode using ROOT"
   ]
  },
  {
   "cell_type": "code",
   "execution_count": 4,
   "metadata": {},
   "outputs": [],
   "source": [
    "def compileCode(bag, modelparams):\n",
    "    from ROOT import gROOT\n",
    "\n",
    "    gROOT.ProcessLine(open('../CosmicCode.cc').read())\n",
    "    from ROOT import CosmicCode\n",
    "    \n",
    "    # make sure model name is valid\n",
    "    if not (bag.name in modelparams):\n",
    "        print(\"** unknown model %s\" % bag.name)\n",
    "    \n",
    "    # get model id and parameters and code\n",
    "    ID, params = modelparams[bag.name]\n",
    "    code       = CosmicCode(ID)\n",
    "    return (code, params)"
   ]
  },
  {
   "cell_type": "markdown",
   "metadata": {},
   "source": [
    "### Read Type 1a supernova data "
   ]
  },
  {
   "cell_type": "code",
   "execution_count": 5,
   "metadata": {},
   "outputs": [],
   "source": [
    "def read_data(filename):\n",
    "    # Skip first 5 rows then read columns 1, 2, and 3\n",
    "    z, mu, dmu = np.loadtxt(filename, \n",
    "                            delimiter='\\t', \n",
    "                            skiprows=5, \n",
    "                            usecols=(1,2,3), \n",
    "                            unpack=True)\n",
    "\n",
    "    print(\"number of observations: %d\" % len(z))\n",
    "    print(\"%5s\\t%10s\\t%10s +/- %-10s\" % ('', 'z', 'x', 'dx'))\n",
    "    for ii, (u, x, dx) in enumerate(zip(z, mu, dmu)):\n",
    "        if ii % 100 == 0:\n",
    "            print(\"%5d\\t%10.3f\\t%10.4f +/- %-10.4f\"% (ii, u, x, dx))\n",
    "            \n",
    "    return (z, mu, dmu)"
   ]
  },
  {
   "cell_type": "markdown",
   "metadata": {},
   "source": [
    "### Simple class to annotate plots"
   ]
  },
  {
   "cell_type": "code",
   "execution_count": 6,
   "metadata": {},
   "outputs": [],
   "source": [
    "class Scribe:\n",
    "    def __init__(self, xpos, lineno, nlines=12, ftsize=16):\n",
    "        \n",
    "        self.ftsize = ftsize\n",
    "        \n",
    "        axes = plt.gca()\n",
    "        self.xmin, self.xmax = axes.get_xlim()\n",
    "        self.ymin, self.ymax = axes.get_ylim()\n",
    "        self.ystep = (self.ymax-self.ymin) / nlines\n",
    "        self.xpos  = xpos\n",
    "        self.ypos  = self.ymax - self.ystep * lineno\n",
    "        \n",
    "    def __def__(self):\n",
    "        pass\n",
    "    \n",
    "    def write(self, line, indent=0):\n",
    "        plt.text(self.xpos+indent, self.ypos, line, \n",
    "                 fontsize=self.ftsize)\n",
    "        self.ypos -= self.ystep"
   ]
  },
  {
   "cell_type": "markdown",
   "metadata": {},
   "source": [
    "### Annotation for cosmological models"
   ]
  },
  {
   "cell_type": "code",
   "execution_count": 7,
   "metadata": {},
   "outputs": [],
   "source": [
    "def annotate(bag, scribe, offset=0.2):\n",
    "    if bag.name == 'LCDM':\n",
    "        OM = (bag.x[0], np.sqrt(bag.cov[0][0]))\n",
    "        OL = (bag.x[1], np.sqrt(bag.cov[1][1]))\n",
    "\n",
    "        scribe.write(r\"$\\Lambda CDM$ model\")\n",
    "        scribe.write(\"\")\n",
    "        scribe.write(r\"$\\Omega(a) = \\frac{\\Omega_{M}}{a^{3}} + \"\\\n",
    "                     r\"\\frac{(1 - \\Omega_{M} - \"\\\n",
    "                     r\"\\Omega_{\\Lambda})}{a^{2}}\"\\\n",
    "                     r\" + \\Omega_{\\Lambda}$\", \n",
    "                     offset)\n",
    "        scribe.write(\" \")\n",
    "        scribe.write(r\"$\\Omega_{M} = %5.2f \\pm %-5.2f$\" % OM, offset)\n",
    "        scribe.write(r\"$\\Omega_{\\Lambda} = %5.2f \\pm %-5.2f$\" % OL,\n",
    "                      offset)\n",
    "    else:\n",
    "        n, dn = (bag.x[0], np.sqrt(bag.cov[0][0]))\n",
    "        x = 3.0/(2*n)\n",
    "        G = sp.special.gamma(x)\n",
    "        T = G*np.sqrt(np.e)*2**x/n        \n",
    "        scribe.write(\"phantom model\")\n",
    "        scribe.write(\"\")\n",
    "        scribe.write(r\"$\\Omega(a) = \\frac{\\Omega_{M}}{a^{3}} + \"\\\n",
    "                     r\"\\frac{e^{a^{n}-1} - \\Omega_{M}}{a^{3}}$\", \n",
    "                     offset)\n",
    "        scribe.write(\"\")\n",
    "        scribe.write(r\"$H_{0}t = \\sqrt{e} 2^{3/(2n)} \"\\\n",
    "                     r\"\\Gamma(3/(2n), a^{n}/2)/n$\", \n",
    "                     offset)\n",
    "        scribe.write(\"\")\n",
    "        scribe.write(r\"$H_{0}t_{rip} = \\sqrt{e} 2^{3/(2n)}\"\\\n",
    "                     r\" \\Gamma(3/(2n))/n = %4.2f$\" % T, \n",
    "                     offset)\n",
    "        scribe.write(\"\")\n",
    "        scribe.write(r\"where $\\Gamma(s, x) = \"\\\n",
    "                     r\"\\int_{0}^{x} t^{s-1} e^{-t} dt$\", \n",
    "                     offset)\n",
    "        scribe.write(r\"and $n = %4.2f \\pm %-4.2f$\" % (n, dn), \n",
    "                     offset)    "
   ]
  },
  {
   "cell_type": "markdown",
   "metadata": {},
   "source": [
    "### Plot data and optional superimpose fit"
   ]
  },
  {
   "cell_type": "code",
   "execution_count": 8,
   "metadata": {},
   "outputs": [],
   "source": [
    "def plot_data(bag, nll=None,\n",
    "              zmin=ZMIN, zmax=ZMAX, \n",
    "              mumin= MUMIN, mumax=MUMAX, \n",
    "              ftsize=16, \n",
    "              fgsize=(8, 5)):\n",
    "  \n",
    "    # set size of figure\n",
    "    plt.figure(figsize=fgsize)\n",
    "    \n",
    "    plt.errorbar(bag.z, bag.mu, yerr=bag.dmu, \n",
    "                 fmt='o', \n",
    "                 ecolor='steelblue', markersize=2,\n",
    "                 color='blue', label='data')\n",
    "        \n",
    "    # set up x, y limits\n",
    "    plt.xlim(zmin, zmax)\n",
    "    plt.ylim(mumin, mumax)\n",
    "   \n",
    "    # add x and y labels\n",
    "    plt.xlabel('$z$', fontsize=20)\n",
    "    plt.ylabel('$\\mu$', fontsize=20)\n",
    "    \n",
    "    # annotate \n",
    "    xwid = (zmax-zmin)/10\n",
    "    xpos = zmin  + 3*xwid\n",
    "    \n",
    "    scribe = Scribe(xpos, lineno=6)\n",
    "    scribe.write('The Union2.1 Compilation')     \n",
    "    scribe.write('The Supernova Cosmology Project')\n",
    "       \n",
    "    if nll != None:\n",
    "        filename = 'fig_' + bag.name + '_union_2_1_fit.pdf'\n",
    "        \n",
    "        # name:  name of cosmological model\n",
    "        # x:   fitted parameters\n",
    "        # p:   parameters to be passed to distanceModulus\n",
    "        chi2 = 2 * nll(bag.x, bag)\n",
    "                \n",
    "        ndf  = len(bag.z) - len(bag.x) # number of degrees of freedom\n",
    "    \n",
    "        # compute best-fit model\n",
    "        nz   = 100\n",
    "        zstep= (zmax - zmin) / nz\n",
    "        zz   = np.arange(zmin+zstep/2, zmax, zstep)\n",
    "        ff   = [bag.code.distanceModulus(u, bag.p) for u in zz]\n",
    "\n",
    "        plt.plot(zz, ff, color='red', label='%s model' % bag.name)\n",
    "        \n",
    "        scribe.write(r\"$\\chi^{2} / {\\rm ndf} = %5.1f / %d = %5.2f$\"%\\\n",
    "                     (chi2, ndf, chi2/ndf))\n",
    "        \n",
    "        plt.legend()\n",
    "    else:\n",
    "        filename = \"fig_union_2_1_data.pdf\"\n",
    "    \n",
    "    # tighten layout so that image is fully\n",
    "    # contained within viewport\n",
    "    \n",
    "    plt.tight_layout()\n",
    "    \n",
    "    print('\\n%s' % filename)\n",
    "    plt.savefig(filename)\n",
    "    plt.show()"
   ]
  },
  {
   "cell_type": "markdown",
   "metadata": {},
   "source": [
    "### Plot predicted scale factor vs. time"
   ]
  },
  {
   "cell_type": "code",
   "execution_count": 9,
   "metadata": {},
   "outputs": [],
   "source": [
    "def plot_scale_factor(bag, \n",
    "                      tmin=0, tmax=1.6, \n",
    "                      amin=0, amax=10, \n",
    "                      ftsize=16, \n",
    "                      fgsize=(6, 5)):\n",
    "  \n",
    "    # set size of figure\n",
    "    plt.figure(figsize=fgsize)\n",
    "    \n",
    "    # set up x, y limits\n",
    "    plt.xlim(tmin, tmax)\n",
    "    plt.ylim(amin, amax)\n",
    "   \n",
    "    # add x and y labels\n",
    "    plt.xlabel('$H_0 t$', fontsize=20)\n",
    "    plt.ylabel('$a(t)$', fontsize=20)\n",
    "    \n",
    "    # plot a(x) vs x = H0*t plot\n",
    "    a = array('d'); a.fromlist(bag.code.N*[0])\n",
    "    t = array('d'); t.fromlist(bag.code.N*[0])\n",
    "    bag.code.scaleFactor(amax, bag.p, t, a)\n",
    "    \n",
    "    plt.plot(t, a, color='blue')\n",
    "       \n",
    "    # plot horizontal line at a = 1\n",
    "    plt.plot([tmin, tmax], [1, 1], color='magenta')\n",
    "    \n",
    "    # annotate \n",
    "    xwid = (tmax-tmin)/12\n",
    "    xpos = tmin + xwid/2\n",
    "    offset = 0.5*xwid\n",
    "    scribe = Scribe(xpos, lineno=1, nlines=12)\n",
    "    annotate(bag, scribe, offset)\n",
    "    \n",
    "    # tighten layout so that image is fully\n",
    "    # contained within viewport\n",
    "    \n",
    "    plt.tight_layout()\n",
    "    \n",
    "    filename = 'fig_' + bag.name + '_scale_factor.pdf'\n",
    "    print('\\n%s' % filename)\n",
    "    plt.savefig(filename)\n",
    "    \n",
    "    plt.show()"
   ]
  },
  {
   "cell_type": "code",
   "execution_count": null,
   "metadata": {},
   "outputs": [],
   "source": []
  }
 ],
 "metadata": {
  "kernelspec": {
   "display_name": "Python 3 (ipykernel)",
   "language": "python",
   "name": "python3"
  },
  "language_info": {
   "codemirror_mode": {
    "name": "ipython",
    "version": 3
   },
   "file_extension": ".py",
   "mimetype": "text/x-python",
   "name": "python",
   "nbconvert_exporter": "python",
   "pygments_lexer": "ipython3",
   "version": "3.8.11"
  }
 },
 "nbformat": 4,
 "nbformat_minor": 1
}
